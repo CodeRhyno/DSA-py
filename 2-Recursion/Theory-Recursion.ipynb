{
 "cells": [
  {
   "cell_type": "markdown",
   "source": [
    "## Theory"
   ],
   "metadata": {
    "collapsed": false,
    "pycharm": {
     "name": "#%% md\n"
    }
   }
  },
  {
   "cell_type": "code",
   "execution_count": 20,
   "outputs": [],
   "source": [
    "# Factorial program\n",
    "def factorial(n):\n",
    "    if n <= 1:\n",
    "        return 1\n",
    "\n",
    "    return n * factorial(n - 1)"
   ],
   "metadata": {
    "collapsed": false,
    "pycharm": {
     "name": "#%%\n"
    }
   }
  },
  {
   "cell_type": "code",
   "execution_count": 12,
   "outputs": [
    {
     "name": "stdout",
     "output_type": "stream",
     "text": [
      "2\n",
      "24\n",
      "720\n"
     ]
    }
   ],
   "source": [
    "print(factorial(2))\n",
    "print(factorial(4))\n",
    "print(factorial(6))"
   ],
   "metadata": {
    "collapsed": false,
    "pycharm": {
     "name": "#%%\n"
    }
   }
  },
  {
   "cell_type": "code",
   "execution_count": 16,
   "outputs": [],
   "source": [
    "# Fibonacci numbers\n",
    "def fibonacci_number(n):\n",
    "    if n == 0:\n",
    "        return 1\n",
    "    if n == 1 or n == 2:\n",
    "        return 1\n",
    "\n",
    "    return fibonacci_number(n - 1) + fibonacci_number(n - 2)"
   ],
   "metadata": {
    "collapsed": false,
    "pycharm": {
     "name": "#%%\n"
    }
   }
  },
  {
   "cell_type": "code",
   "execution_count": 17,
   "outputs": [
    {
     "name": "stdout",
     "output_type": "stream",
     "text": [
      "1\n",
      "1\n",
      "2\n",
      "3\n",
      "5\n"
     ]
    }
   ],
   "source": [
    "print(fibonacci_number(1))\n",
    "print(fibonacci_number(2))\n",
    "print(fibonacci_number(3))\n",
    "print(fibonacci_number(4))\n",
    "print(fibonacci_number(5))"
   ],
   "metadata": {
    "collapsed": false,
    "pycharm": {
     "name": "#%%\n"
    }
   }
  }
 ],
 "metadata": {
  "kernelspec": {
   "display_name": "Python 3.10.4 64-bit",
   "language": "python",
   "name": "python3"
  },
  "language_info": {
   "codemirror_mode": {
    "name": "ipython",
    "version": 3
   },
   "file_extension": ".py",
   "mimetype": "text/x-python",
   "name": "python",
   "nbconvert_exporter": "python",
   "pygments_lexer": "ipython3",
   "version": "3.10.4"
  },
  "vscode": {
   "interpreter": {
    "hash": "916dbcbb3f70747c44a77c7bcd40155683ae19c65e1c03b4aa3499c5328201f1"
   }
  }
 },
 "nbformat": 4,
 "nbformat_minor": 0
}