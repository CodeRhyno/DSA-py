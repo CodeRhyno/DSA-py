{
 "cells": [
  {
   "cell_type": "markdown",
   "source": [
    "## Questions"
   ],
   "metadata": {
    "collapsed": false,
    "pycharm": {
     "name": "#%% md\n"
    }
   }
  },
  {
   "cell_type": "markdown",
   "source": [
    "#### Find the sum of digits of a positive integer number using recursion?"
   ],
   "metadata": {
    "collapsed": false,
    "pycharm": {
     "name": "#%% md\n"
    }
   }
  },
  {
   "cell_type": "code",
   "execution_count": 2,
   "outputs": [],
   "source": [
    "def sum_of_digits(n):\n",
    "    if n <= 0 or n == 1:\n",
    "        return n\n",
    "\n",
    "    return (n % 10) + sum_of_digits(n // 10)"
   ],
   "metadata": {
    "collapsed": false,
    "pycharm": {
     "name": "#%%\n"
    }
   }
  },
  {
   "cell_type": "code",
   "execution_count": 4,
   "outputs": [
    {
     "name": "stdout",
     "output_type": "stream",
     "text": [
      "1\n",
      "1\n",
      "2\n",
      "4\n",
      "57\n"
     ]
    }
   ],
   "source": [
    "print(sum_of_digits(1))\n",
    "print(sum_of_digits(10))\n",
    "print(sum_of_digits(11))\n",
    "print(sum_of_digits(112))\n",
    "print(sum_of_digits(9582681918))"
   ],
   "metadata": {
    "collapsed": false,
    "pycharm": {
     "name": "#%%\n"
    }
   }
  },
  {
   "cell_type": "markdown",
   "source": [
    "#### Calculate power of number"
   ],
   "metadata": {
    "collapsed": false,
    "pycharm": {
     "name": "#%% md\n"
    }
   }
  },
  {
   "cell_type": "code",
   "execution_count": 10,
   "outputs": [],
   "source": [
    "def pow_of_number(n, x):\n",
    "    assert 0 <= x == int(x), 'The exponent must be positive integer only!'\n",
    "\n",
    "    if x <= 0:\n",
    "        return 1\n",
    "\n",
    "    return n * pow_of_number(n, x - 1)"
   ],
   "metadata": {
    "collapsed": false,
    "pycharm": {
     "name": "#%%\n"
    }
   }
  },
  {
   "cell_type": "code",
   "execution_count": 12,
   "outputs": [
    {
     "name": "stdout",
     "output_type": "stream",
     "text": [
      "1\n",
      "2\n",
      "4\n",
      "8\n",
      "16\n"
     ]
    },
    {
     "ename": "AssertionError",
     "evalue": "The exponent must be positive integer only!",
     "output_type": "error",
     "traceback": [
      "\u001B[0;31m---------------------------------------------------------------------------\u001B[0m",
      "\u001B[0;31mAssertionError\u001B[0m                            Traceback (most recent call last)",
      "Input \u001B[0;32mIn [12]\u001B[0m, in \u001B[0;36m<cell line: 6>\u001B[0;34m()\u001B[0m\n\u001B[1;32m      4\u001B[0m \u001B[38;5;28mprint\u001B[39m(pow_of_number(\u001B[38;5;241m2\u001B[39m, \u001B[38;5;241m3\u001B[39m))\n\u001B[1;32m      5\u001B[0m \u001B[38;5;28mprint\u001B[39m(pow_of_number(\u001B[38;5;241m2\u001B[39m, \u001B[38;5;241m4\u001B[39m))\n\u001B[0;32m----> 6\u001B[0m \u001B[38;5;28mprint\u001B[39m(\u001B[43mpow_of_number\u001B[49m\u001B[43m(\u001B[49m\u001B[38;5;241;43m2\u001B[39;49m\u001B[43m,\u001B[49m\u001B[43m \u001B[49m\u001B[38;5;241;43m-\u001B[39;49m\u001B[38;5;241;43m1\u001B[39;49m\u001B[43m)\u001B[49m)\n",
      "Input \u001B[0;32mIn [10]\u001B[0m, in \u001B[0;36mpow_of_number\u001B[0;34m(n, x)\u001B[0m\n\u001B[1;32m      1\u001B[0m \u001B[38;5;28;01mdef\u001B[39;00m \u001B[38;5;21mpow_of_number\u001B[39m(n, x):\n\u001B[0;32m----> 2\u001B[0m     \u001B[38;5;28;01massert\u001B[39;00m \u001B[38;5;241m0\u001B[39m \u001B[38;5;241m<\u001B[39m\u001B[38;5;241m=\u001B[39m x \u001B[38;5;241m==\u001B[39m \u001B[38;5;28mint\u001B[39m(x), \u001B[38;5;124m'\u001B[39m\u001B[38;5;124mThe exponent must be positive integer only!\u001B[39m\u001B[38;5;124m'\u001B[39m\n\u001B[1;32m      4\u001B[0m     \u001B[38;5;28;01mif\u001B[39;00m x \u001B[38;5;241m<\u001B[39m\u001B[38;5;241m=\u001B[39m \u001B[38;5;241m0\u001B[39m:\n\u001B[1;32m      5\u001B[0m         \u001B[38;5;28;01mreturn\u001B[39;00m \u001B[38;5;241m1\u001B[39m\n",
      "\u001B[0;31mAssertionError\u001B[0m: The exponent must be positive integer only!"
     ]
    }
   ],
   "source": [
    "print(pow_of_number(2, 0))\n",
    "print(pow_of_number(2, 1))\n",
    "print(pow_of_number(2, 2))\n",
    "print(pow_of_number(2, 3))\n",
    "print(pow_of_number(2, 4))\n",
    "print(pow_of_number(2, -1))"
   ],
   "metadata": {
    "collapsed": false,
    "pycharm": {
     "name": "#%%\n"
    }
   }
  },
  {
   "cell_type": "code",
   "execution_count": null,
   "outputs": [],
   "source": [
    "\n"
   ],
   "metadata": {
    "collapsed": false,
    "pycharm": {
     "name": "#%%\n"
    }
   }
  }
 ],
 "metadata": {
  "kernelspec": {
   "display_name": "Python 3",
   "language": "python",
   "name": "python3"
  },
  "language_info": {
   "codemirror_mode": {
    "name": "ipython",
    "version": 2
   },
   "file_extension": ".py",
   "mimetype": "text/x-python",
   "name": "python",
   "nbconvert_exporter": "python",
   "pygments_lexer": "ipython2",
   "version": "2.7.6"
  }
 },
 "nbformat": 4,
 "nbformat_minor": 0
}